{
 "cells": [
  {
   "cell_type": "code",
   "execution_count": 1,
   "metadata": {},
   "outputs": [],
   "source": [
    "import random as rn"
   ]
  },
  {
   "cell_type": "code",
   "execution_count": 2,
   "metadata": {},
   "outputs": [],
   "source": [
    "#Creamos la función para que te imprima los dados a partir de las cantidades introducidas por el usuario\n",
    "\n",
    "def dados(n): #siendo n el número de dados\n",
    "    #armamos nuestro dado base\n",
    "    lista1=[\"{---}\",\"|   |\",\"| 0 |\",\"|   |\",\"{---}\"]\n",
    "    lista2=[\"{---}\",\"|   |\",\"|0 0|\",\"|   |\",\"{---}\"]\n",
    "    lista3=[\"{---}\",\"|  0|\",\"| 0 |\",\"|0  |\",\"{---}\"]\n",
    "    lista4=[\"{---}\",\"|0 0|\",\"|   |\",\"|0 0|\",\"{---}\"]\n",
    "    lista5=[\"{---}\",\"|0 0|\",\"| 0 |\",\"|0 0|\",\"{---}\"]\n",
    "    lista6=[\"{---}\",\"|0 0|\",\"|0 0|\",\"|0 0|\",\"{---}\"]\n",
    "    resultados=[lista1,lista2,lista3,lista4,lista5,lista6,]\n",
    "    i=0 #esta va a ser nuestra variable contador\n",
    "    while i<n:\n",
    "        a=rn.randint(0,5)\n",
    "        print(resultados[a][0],\"\\n\",\n",
    "              resultados[a][1],\"\\n\",\n",
    "              resultados[a][2],\"\\n\",\n",
    "              resultados[a][3],\"\\n\",\n",
    "              resultados[a][4],\"\\n\",)\n",
    "        i+=1"
   ]
  },
  {
   "cell_type": "code",
   "execution_count": 32,
   "metadata": {},
   "outputs": [
    {
     "name": "stdout",
     "output_type": "stream",
     "text": [
      "cuantos dados tiene que tirar? 3\n"
     ]
    }
   ],
   "source": [
    "a=input(\"cuantos dados tiene que tirar? \")"
   ]
  },
  {
   "cell_type": "code",
   "execution_count": 46,
   "metadata": {},
   "outputs": [
    {
     "name": "stdout",
     "output_type": "stream",
     "text": [
      "{---} \n",
      " |  0| \n",
      " | 0 | \n",
      " |0  | \n",
      " {---} \n",
      "\n",
      "{---} \n",
      " |0 0| \n",
      " |0 0| \n",
      " |0 0| \n",
      " {---} \n",
      "\n",
      "{---} \n",
      " |  0| \n",
      " | 0 | \n",
      " |0  | \n",
      " {---} \n",
      "\n"
     ]
    }
   ],
   "source": [
    "dados(int(a))"
   ]
  },
  {
   "cell_type": "code",
   "execution_count": null,
   "metadata": {},
   "outputs": [],
   "source": []
  },
  {
   "cell_type": "code",
   "execution_count": null,
   "metadata": {},
   "outputs": [],
   "source": []
  },
  {
   "cell_type": "code",
   "execution_count": null,
   "metadata": {},
   "outputs": [],
   "source": []
  },
  {
   "cell_type": "code",
   "execution_count": null,
   "metadata": {},
   "outputs": [],
   "source": []
  }
 ],
 "metadata": {
  "kernelspec": {
   "display_name": "Python 3",
   "language": "python",
   "name": "python3"
  },
  "language_info": {
   "codemirror_mode": {
    "name": "ipython",
    "version": 3
   },
   "file_extension": ".py",
   "mimetype": "text/x-python",
   "name": "python",
   "nbconvert_exporter": "python",
   "pygments_lexer": "ipython3",
   "version": "3.8.3"
  }
 },
 "nbformat": 4,
 "nbformat_minor": 4
}
